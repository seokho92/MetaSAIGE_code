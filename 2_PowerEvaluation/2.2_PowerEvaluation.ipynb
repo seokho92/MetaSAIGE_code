{
 "cells": [
  {
   "cell_type": "markdown",
   "id": "3edd5248",
   "metadata": {},
   "source": [
    "# Power Evaluation"
   ]
  },
  {
   "cell_type": "markdown",
   "id": "6a21fd85",
   "metadata": {},
   "source": [
    "### Run SAIGE (GWAS)"
   ]
  },
  {
   "cell_type": "markdown",
   "id": "373f13df",
   "metadata": {},
   "source": [
    "#### Step 0 (Create Sparse GRM)"
   ]
  },
  {
   "cell_type": "code",
   "execution_count": null,
   "id": "732a1842",
   "metadata": {
    "vscode": {
     "languageId": "plaintext"
    }
   },
   "outputs": [],
   "source": [
    "docker run -dv /media/leelabsg-storage0:/media/leelabsg-storage0 wzhou88/saige:1.1.9 createSparseGRM.R \\\n",
    "    --plinkFile=/media/leelabsg-storage0/kisung/META-SAIGE/data/genotype/common/WES_common_merged \\\n",
    "    --nThreads=64 \\\n",
    "    --outputPrefix=/media/leelabsg-storage0/kisung/META-SAIGE/result/step0/UKB_sparseGRM_200k \\\n",
    "    --numRandomMarkerforSparseKin=2000 \\\n",
    "    --relatednessCutoff=0.05"
   ]
  },
  {
   "cell_type": "markdown",
   "id": "696ca8d4",
   "metadata": {},
   "source": [
    "Step 1 (Fitting the null model)"
   ]
  },
  {
   "cell_type": "code",
   "execution_count": null,
   "id": "bb00cebe",
   "metadata": {
    "vscode": {
     "languageId": "plaintext"
    }
   },
   "outputs": [],
   "source": [
    "# arg 1, 2 = for loop start and end / arg 3 = cohort number\n",
    "\n",
    "prev=\"0.01 0.05\"\n",
    "\n",
    "for ((n = $1; n <= $2; n++))\n",
    "do\n",
    "    for p in ${prev}\n",
    "    do\n",
    "        for ii in {1..2}\n",
    "        do\n",
    "            for jj in {1..3}\n",
    "            do\n",
    "                for kk in {1..2}\n",
    "                do\n",
    "                    docker run -v /media/leelabsg-storage0/kisung:/media/leelabsg-storage0/kisung wzhou88/saige:1.1.9 step1_fitNULLGLMM.R \\\n",
    "                    --sparseGRMFile=/media/leelabsg-storage0/kisung/META-SAIGE/result/step0/UKB_sparseGRM_200k_relatednessCutoff_0.05_2000_randomMarkersUsed.sparseGRM.mtx \\\n",
    "                    --sparseGRMSampleIDFile=/media/leelabsg-storage0/kisung/META-SAIGE/result/step0/UKB_sparseGRM_200k_relatednessCutoff_0.05_2000_randomMarkersUsed.sparseGRM.mtx.sampleIDs.txt \\\n",
    "                    --useSparseGRMtoFitNULL=TRUE \\\n",
    "                    --plinkFile=/media/leelabsg-storage0/kisung/META-SAIGE/data/genotype/common/WES_common_merged \\\n",
    "                    --phenoFile=/media/leelabsg-storage0/kisung/META-SAIGE/data/phenotype/total_231005/pheno_sim${n}_${ii}_${jj}_${kk}_prev${p}.txt \\\n",
    "                    --phenoCol=pheno_binary \\\n",
    "                    --covarColList=cov1,cov2 \\\n",
    "                    --sampleIDColinphenoFile=IID \\\n",
    "                    --SampleIDIncludeFile=/media/leelabsg-storage0/kisung/META-SAIGE/data/group\"$3\"_sampleid.txt \\\n",
    "                    --traitType=binary \\\n",
    "                    --outputPrefix=/media/leelabsg-storage0/kisung/META-SAIGE/result/step1_231007/step1_cohort\"$3\"_sim${n}_${ii}_${jj}_${kk}_prev${p} \\\n",
    "                    --nThreads=8 \\\n",
    "                    --isCateVarianceRatio=FALSE \\\n",
    "                    --LOCO=FALSE \\\n",
    "                    --IsOverwriteVarianceRatioFile=TRUE\n",
    "                done\n",
    "            done\n",
    "        done\n",
    "    done\n",
    "done"
   ]
  },
  {
   "cell_type": "markdown",
   "id": "3454582a",
   "metadata": {},
   "source": [
    "Step 2 (Variant-level association test)"
   ]
  },
  {
   "cell_type": "code",
   "execution_count": null,
   "id": "a5ac2459",
   "metadata": {
    "vscode": {
     "languageId": "plaintext"
    }
   },
   "outputs": [],
   "source": [
    "# arg1 = simulation number, arg2 = cohort number\n",
    "\n",
    "prev=\"0.01 0.05\"\n",
    "\n",
    "for p in ${prev}\n",
    "do\n",
    "    for ii in {1..2}\n",
    "    do\n",
    "        for jj in {1..3}\n",
    "        do\n",
    "            for kk in {1..2}\n",
    "            do\n",
    "                docker run -v /media/leelabsg-storage0/kisung:/media/leelabsg-storage0/kisung wzhou88/saige:1.1.9 step2_SPAtests.R \\\n",
    "                    --bedFile=/media/leelabsg-storage0/kisung/META-SAIGE/data/genotype/rare_231005/merged.bed \\\n",
    "                    --bimFile=/media/leelabsg-storage0/kisung/META-SAIGE/data/genotype/rare_231005/merged.bim \\\n",
    "                    --famFile=/media/leelabsg-storage0/kisung/META-SAIGE/data/genotype/rare_231005/merged.fam \\\n",
    "                    --AlleleOrder=alt-first \\\n",
    "                    --minMAF=0 \\\n",
    "                    --minMAC=0.5 \\\n",
    "                    --GMMATmodelFile=/media/leelabsg-storage0/kisung/META-SAIGE/result/step1_231007/step1_cohort$2_sim$1_${ii}_${jj}_${kk}_prev${p}.rda \\\n",
    "                    --varianceRatioFile=/media/leelabsg-storage0/kisung/META-SAIGE/result/step1_231007/step1_cohort$2_sim$1_${ii}_${jj}_${kk}_prev${p}.varianceRatio.txt \\\n",
    "                    --sparseGRMFile=/media/leelabsg-storage0/kisung/META-SAIGE/result/step0/UKB_sparseGRM_200k_relatednessCutoff_0.05_2000_randomMarkersUsed.sparseGRM.mtx \\\n",
    "                    --sparseGRMSampleIDFile=/media/leelabsg-storage0/kisung/META-SAIGE/result/step0/UKB_sparseGRM_200k_relatednessCutoff_0.05_2000_randomMarkersUsed.sparseGRM.mtx.sampleIDs.txt \\\n",
    "                    --groupFile=/media/leelabsg-storage0/kisung/dnanexus/group_files/UKBexome_all_chr.txt \\\n",
    "                    --annotation_in_groupTest='lof,missense:lof,missense:lof:synonymous' \\\n",
    "                    --maxMAF_in_groupTest=0.0001,0.001,0.01 \\\n",
    "                    --SAIGEOutputFile=/media/leelabsg-storage0/kisung/META-SAIGE/result/step2_231010/step2_cohort$2_sim$1_${ii}_${jj}_${kk}_prev${p} \\\n",
    "                    --is_output_markerList_in_groupTest=TRUE \\\n",
    "                    --LOCO=FALSE \\\n",
    "                    --is_fastTest=TRUE\n",
    "            done\n",
    "        done\n",
    "    done\n",
    "done"
   ]
  },
  {
   "cell_type": "markdown",
   "id": "91f3f367",
   "metadata": {},
   "source": [
    "Running Meta-SAIGE"
   ]
  },
  {
   "cell_type": "code",
   "execution_count": null,
   "id": "80342a74",
   "metadata": {
    "vscode": {
     "languageId": "plaintext"
    }
   },
   "outputs": [],
   "source": [
    "prev=\"0.01 0.05\"\n",
    "anno=missense_lof\n",
    "maxMAF=0.001\n",
    "chrs=\"2 5 6 9 11 13\"\n",
    "case=1\n",
    "\n",
    "# destination=/Meta-SAIGE/power_eval/meta\n",
    "\n",
    "for chr in ${chrs}\n",
    "do\n",
    "    for p in ${prev}\n",
    "    do\n",
    "        for ii in {1..2}\n",
    "        do\n",
    "            for jj in {1..3}\n",
    "            do\n",
    "                for kk in {1..2}\n",
    "                do\n",
    "    \t\t\tdocker run -v /media/leelabsg-storage0/kisung:/media/leelabsg-storage0/kisung meta-saige:latest Rscript /app/RV_meta_GC.R \\\n",
    "                        --num_cohorts 4 \\\n",
    "                        --chr ${chr} \\\n",
    "                        --col_co 10 \\\n",
    "                        --info_file_path /media/leelabsg-storage0/kisung/META-SAIGE/data/group1/group1_${maxMAF}_${anno}/WB_case${case}_group1_chr${chr}.marker_info.txt \\\n",
    "                        /media/leelabsg-storage0/kisung/META-SAIGE/data/group2/group2_${maxMAF}_${anno}/WB_case${case}_group2_chr${chr}.marker_info.txt \\\n",
    "                        /media/leelabsg-storage0/kisung/META-SAIGE/data/group3/group3_${maxMAF}_${anno}/WB_case${case}_group3_chr${chr}.marker_info.txt \\\n",
    "                        /media/leelabsg-storage0/kisung/META-SAIGE/data/white_nonB/${maxMAF}_${anno}/white_nonB_chr${chr}.marker_info.txt \\\n",
    "                        \\\n",
    "                        --gene_file_prefix /media/leelabsg-storage0/kisung/META-SAIGE/data/group1/group1_${maxMAF}_${anno}/WB_case${case}_group1_chr${chr}_ \\\n",
    "                        /media/leelabsg-storage0/kisung/META-SAIGE/data/group2/group2_${maxMAF}_${anno}/WB_case${case}_group2_chr${chr}_ \\\n",
    "                        /media/leelabsg-storage0/kisung/META-SAIGE/data/group3/group3_${maxMAF}_${anno}/WB_case${case}_group3_chr${chr}_ \\\n",
    "                        /media/leelabsg-storage0/kisung/META-SAIGE/data/white_nonB/${maxMAF}_${anno}/white_nonB_chr${chr}_ \\\n",
    "                        \\\n",
    "                        --gwas_path /media/leelabsg-storage0/kisung/META-SAIGE/result/step2_single_231020/step2_cohort1_sim\"$1\"_${ii}_${jj}_${kk}_prev${p} \\\n",
    "                        /media/leelabsg-storage0/kisung/META-SAIGE/result/step2_single_231020/step2_cohort2_sim\"$1\"_${ii}_${jj}_${kk}_prev${p} \\\n",
    "                        /media/leelabsg-storage0/kisung/META-SAIGE/result/step2_single_231020/step2_cohort3_sim\"$1\"_${ii}_${jj}_${kk}_prev${p} \\\n",
    "                        /media/leelabsg-storage0/kisung/META-SAIGE/result/step2_single_231106_white_nonB/step2_white_nonB_sim\"$1\"_${ii}_${jj}_${kk}_prev${p} \\\n",
    "                        \\\n",
    "                        --output_prefix /media/leelabsg-storage0/kisung/META-SAIGE/result/meta_v2_231107/meta_sim\"$1\"_chr${chr}_${ii}_${jj}_${kk}_prev${p}.txt\n",
    "                done\n",
    "            done\n",
    "        done\n",
    "    done\n",
    "done"
   ]
  },
  {
   "cell_type": "markdown",
   "id": "73dc10c5",
   "metadata": {},
   "source": [
    "#### Power for weighted Fisher"
   ]
  },
  {
   "cell_type": "code",
   "execution_count": null,
   "id": "6e4b603e",
   "metadata": {
    "vscode": {
     "languageId": "plaintext"
    }
   },
   "outputs": [],
   "source": [
    "library(data.table)\n",
    "\n",
    "prev <- c(0.01, 0.05)\n",
    "wFisher = function(p, weight = NULL, is.onetail = TRUE, eff.sign)\n",
    "{\n",
    "  if(is.null(weight)){weight = rep(1, length(p))}\n",
    "  idx.na = which(is.na(p))\n",
    "  if(length(idx.na)>0){\n",
    "    p = p[-idx.na];\n",
    "    weight = weight[-idx.na];\n",
    "    if(!is.onetail)\n",
    "    {\n",
    "      eff.sign = eff.sign[-idx.na]\n",
    "    }\n",
    "  }\n",
    "  NP = length(p)\n",
    "  NS = length(weight)\n",
    "  if(NP!=NS){stop(\"The length of p and weight vector must be identical.\")}\n",
    "  N = NS\n",
    "  Ntotal = sum(weight)\n",
    "  ratio = weight/Ntotal\n",
    "  Ns = N*ratio\n",
    "  G = c()\n",
    "\n",
    "  if(is.onetail)\n",
    "  {\n",
    "    for(i in 1:length(p))\n",
    "    {\n",
    "      G = append(G, qgamma(p = p[i], shape = Ns[i], scale=2, lower.tail=F))\n",
    "    }\n",
    "    Gsum = sum(G)\n",
    "    resultP = pgamma(q=Gsum, shape=N, scale=2, lower.tail=F)\n",
    "  }else{\n",
    "    p1 = p2 = p\n",
    "    idx_pos = which(eff.sign > 0)\n",
    "    idx_neg = which(eff.sign < 0)\n",
    "    # positive direction\n",
    "    G = c()\n",
    "    p1[idx_pos] = p[idx_pos]/2\n",
    "    p1[idx_neg] = 1-p[idx_neg]/2\n",
    "    for(i in 1:length(p1))\n",
    "    {\n",
    "      G = append(G, qgamma(p = p1[i], shape = Ns[i], scale=2, lower.tail=F))\n",
    "    }\n",
    "    Gsum = sum(G)\n",
    "    resultP1 = pgamma(q=Gsum, shape=N, scale=2, lower.tail=F)\n",
    "    # negative direction\n",
    "    G = c()\n",
    "    p2[idx_pos] = 1-p[idx_pos]/2\n",
    "    p2[idx_neg] = p[idx_neg]/2\n",
    "    for(i in 1:length(p2))\n",
    "    {\n",
    "      G = append(G, qgamma(p = p2[i], shape = Ns[i], scale=2, lower.tail=F))\n",
    "    }\n",
    "    Gsum = sum(G)\n",
    "    resultP2 = pgamma(q=Gsum, shape=N, scale=2, lower.tail=F)\n",
    "    resultP = 2* min(resultP1, resultP2)\n",
    "    if(resultP > 1.0){resultP = 1.0}\n",
    "    overall.eff.direction = if(resultP1<=resultP2){\"+\"}else{\"-\"}\n",
    "  }\n",
    "  RES = if(is.onetail){list(p=min(1,resultP))}else{list(p=min(1,resultP), overall.eff.direction=overall.eff.direction)}\n",
    "  return(RES)\n",
    "}\n",
    "\n",
    "gene_list <- c(\"IGSF9B\", \"BRCA2\", \"APOB\", \"GPRIN1\", \"CFB\", \"DDR1\", \"GPSM3\", \"HLA-DRB1\", \"DBH\", \"IL33\")\n",
    "sample_size <- c(55655, 55653, 55652, 22136, 1240)\n",
    "setwd(\"/media/leelabsg-storage0/kisung/META-SAIGE/result/step2_231010\")\n",
    "\n",
    "result <- NULL\n",
    "for (p in prev) {\n",
    "    for (ii in 1:2) {\n",
    "        for (jj in 1:3) {\n",
    "            for (kk in 1:2) {\n",
    "                out <- NULL\n",
    "                for (n in 1:100) {\n",
    "                    for (g in gene_list) {\n",
    "                        pval <- NULL\n",
    "                        # White British\n",
    "                        for (c in 1:3) {\n",
    "                            fname <- paste0(\"step2_cohort\", c, \"_sim\", n, \"_\", ii, \"_\", jj, \"_\", kk, \"_prev\", p)\n",
    "                            d <- fread(fname)\n",
    "                            pval_temp <- d[which((d$Region == g) & (d$Group == \"missense;lof\") & (d$max_MAF == 0.001)),]$Pvalue\n",
    "                            pval <- c(pval, pval_temp)\n",
    "                        }\n",
    "                        # white nonB\n",
    "                        fname <- paste0(\"/media/leelabsg-storage0/kisung/META-SAIGE/result/step2_231106_white_nonB/step2_AFR_sim\", n, \"_\", ii, \"_\", jj, \"_\", kk, \"_prev\", p)\n",
    "                        d <- fread(fname)\n",
    "                        pval_temp <- d[which((d$Region == g) & (d$Group == \"missense;lof\") & (d$max_MAF == 0.001)),]$Pvalue\n",
    "                        pval <- c(pval, pval_temp)\n",
    "                        # African\n",
    "                        fname <- paste0(\"/media/leelabsg-storage0/kisung/META-SAIGE/result/step2_231103_AFR/step2_AFR_sim\", n, \"_\", ii, \"_\", jj, \"_\", kk, \"_prev\", p)\n",
    "                        d <- fread(fname)\n",
    "                        pval_temp <- d[which((d$Region == g) & (d$Group == \"missense;lof\") & (d$max_MAF == 0.001)),]$Pvalue\n",
    "                        pval <- c(pval, pval_temp)\n",
    "\n",
    "                        weighted_Fisher_pval <- wFisher(p = pval, weight = sample_size, is.onetail = TRUE)$p\n",
    "                        out <- rbind(out, c(n, g, weighted_Fisher_pval))\n",
    "                    }\n",
    "                }\n",
    "                print(paste(ii, jj, kk, p))\n",
    "                out <- as.data.frame(out)\n",
    "                out$V3 <- as.numeric(out$V3)\n",
    "                power <- length(which(out$V3 < 2.5e-6)) / nrow(out)\n",
    "                result <- rbind(result, c(ii, jj, kk, p, power))\n",
    "            }\n",
    "        }\n",
    "    }\n",
    "}\n",
    "\n",
    "print(result)"
   ]
  },
  {
   "cell_type": "markdown",
   "id": "205bd57d",
   "metadata": {},
   "source": [
    "#### Power evaluation for Meta-SAIGE"
   ]
  },
  {
   "cell_type": "code",
   "execution_count": null,
   "id": "cbdc879d",
   "metadata": {
    "vscode": {
     "languageId": "plaintext"
    }
   },
   "outputs": [],
   "source": [
    "library(data.table)\n",
    "# library(qqman)\n",
    "setwd(\"/media/leelabsg-storage0/kisung/META-SAIGE/result\")\n",
    "\n",
    "Get_Pval_Adj<-function(pval_Matrix, cutoff=10^-3){\n",
    "\n",
    "\t# pval_Matrix<-pval_1_Matrix\n",
    "\tskato<-pval_Matrix[,1]\n",
    "\tminP<-apply(pval_Matrix[,-1], 1, min)*2\n",
    "\tidx<-which(skato<cutoff)\n",
    "\tidx1<-which(minP - skato > 0)\n",
    "\tidx2<-intersect(idx,idx1)\n",
    "\tskato[idx2]<-minP[idx2]\n",
    "\treturn(skato)\n",
    "}\n",
    "\n",
    "prev <- c(0.01, 0.05)\n",
    "chr <- c(2, 5, 6, 9, 11, 13)\n",
    "method <- c(\"v2\", \"multi\")\n",
    "\n",
    "for (m in method) {\n",
    "    for (p in prev) {\n",
    "        for (c in chr) {\n",
    "            for (i in 1:2) {\n",
    "                for (j in 1:3) {\n",
    "                    for (k in 1:2) {\n",
    "                        for (n in 1:100) {\n",
    "                            fname <- paste0(\"meta_\", m, \"_231117/meta_sim\", n, \"_chr\", c, \"_\" , i, \"_\", j, \"_\", k, \"_prev\", p, \".txt\")\n",
    "                            if (file.exists(fname)) {\n",
    "                                d <- fread(fname)\n",
    "                                skato <- Get_Pval_Adj(d[,3:10])\n",
    "                                d$Pval <- skato\n",
    "                                outname <- paste0(\"meta_\", m, \"_adj_231119/meta_sim\", n, \"_chr\", c, \"_\" , i, \"_\", j, \"_\", k, \"_prev\", p, \".txt\")\n",
    "                                write.table(d, outname, row.names=F, quote=F)\n",
    "                            }\n",
    "                        }\n",
    "                        print(paste(m, p, c, i, j, k))\n",
    "                    }\n",
    "                }\n",
    "            }\n",
    "        }\n",
    "    }\n",
    "}\n",
    "\n",
    "# Power evaluation\n",
    "\n",
    "library(data.table)\n",
    "setwd(\"/media/leelabsg-storage0/kisung/META-SAIGE/result/meta_multi_adj_231119\")\n",
    "\n",
    "prev <- c(0.01, 0.05)\n",
    "chr <- c(2, 5, 6, 9, 11, 13)\n",
    "gene_list <- c(\"IGSF9B\", \"BRCA2\", \"APOB\", \"GPRIN1\", \"CFB\", \"DDR1\", \"GPSM3\", \"HLA-DRB1\", \"DBH\", \"IL33\")\n",
    "\n",
    "result <- NULL\n",
    "for (p in prev) {\n",
    "    for (ii in 1:2) {\n",
    "        for (jj in 1:3) {\n",
    "            for (kk in 1:2) {\n",
    "                out <- NULL\n",
    "                for (n in 1:100) {\n",
    "                    for (c in chr) {\n",
    "                        fname <- paste0(\"meta_sim\", n, \"_chr\", c, \"_\", ii, \"_\", jj, \"_\", kk, \"_prev\", p, \".txt\")\n",
    "                        if (file.exists(fname)) {\n",
    "                            d <- fread(fname)\n",
    "                            out <- rbind(out, d)\n",
    "                        }\n",
    "                    }\n",
    "                }\n",
    "                out <- out[which(out$GENE %in% gene_list),]\n",
    "                power <- length(which(out$Pval < 2.5e-6)) / nrow(out)\n",
    "                result <- rbind(result, c(ii, jj, kk, p, power))\n",
    "                print(c(ii, jj, kk, p, power))\n",
    "            }\n",
    "        }\n",
    "    }\n",
    "}\n",
    "colnames(result) <- c(\"ii\", \"jj\", \"kk\", \"prev\", \"power\")\n",
    "print(result)\n"
   ]
  },
  {
   "cell_type": "code",
   "execution_count": null,
   "id": "79d446df",
   "metadata": {
    "vscode": {
     "languageId": "plaintext"
    }
   },
   "outputs": [],
   "source": []
  }
 ],
 "metadata": {
  "language_info": {
   "name": "python"
  }
 },
 "nbformat": 4,
 "nbformat_minor": 5
}
