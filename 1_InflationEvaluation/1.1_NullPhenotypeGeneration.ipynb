{
 "cells": [
  {
   "cell_type": "markdown",
   "metadata": {},
   "source": [
    "## 1. Generate frequency of the variants"
   ]
  },
  {
   "cell_type": "code",
   "execution_count": null,
   "metadata": {
    "vscode": {
     "languageId": "shellscript"
    }
   },
   "outputs": [],
   "source": [
    "%%bash\n",
    "\n",
    "plink2 \\\n",
    "--bfile /home/leelabsg/media/leelabsg-storage0/eunjae/Meta-code/Inflation_eval/whole_WES/LD_pruned/prune_all \\\n",
    "#plink file of pruned WES file for 470k white british samples\n",
    "--freq \\\n",
    "--out /home/leelabsg/media/leelabsg-storage0/eunjae/Meta-code/Inflation_eval/whole_WES/WES_200k_freq_ldpruned"
   ]
  },
  {
   "cell_type": "markdown",
   "metadata": {},
   "source": [
    "## 2. Get random beta values"
   ]
  },
  {
   "cell_type": "code",
   "execution_count": null,
   "metadata": {
    "vscode": {
     "languageId": "r"
    }
   },
   "outputs": [],
   "source": [
    "%%R\n",
    "\n",
    "options(stringsAsFactors=F)\n",
    "set.seed(1)\n",
    "\n",
    "## load R libraries\n",
    "#library(SKAT)\n",
    "#library(MetaSK#AT)\n",
    "library(optparse)\n",
    "library(data.table)\n",
    "## set list of cmd line arguments\n",
    "option_list <- list(\n",
    "#  make_option(\"--seedNum\", type=\"integer\",default=1,\n",
    "#    help=\"seed number for simulation\"),\n",
    "  make_option(\"--tau\", type=\"numeric\",default=1,\n",
    "    help=\"tau for variance component\"),\n",
    "  make_option(\"--prev\", type=\"numeric\", default=\"\",\n",
    "    help=\"prevalance\")\t\t    \n",
    ")\n",
    "## list of options\n",
    "parser <- OptionParser(usage=\"%prog [options]\", option_list=option_list)\n",
    "args <- parse_args(parser, positional_arguments = 0)\n",
    "opt <- args$options\n",
    "print(opt)\n",
    "\n",
    "## output folder\n",
    "outputPath=\"/home/leelabsg/media/leelabsg-storage0/eunjae/Meta-code/Inflation_eval/whole_WES/\"\n",
    "\n",
    "GetMean<-function(x, prev_a, eta1_a){\n",
    "        eta_a = eta1_a+ x\n",
    "        PI_a<-exp(eta_a)/(1+exp(eta_a))\n",
    "        mean(PI_a) - prev_a\n",
    "}\n",
    "\n",
    "### 1. Randomly draw beta for genetic markers \n",
    "\n",
    "#freqfile is output by Binary_typeIerror_simu_0.sh \n",
    "freqfile=\"/home/leelabsg/media/leelabsg-storage0/eunjae/Meta-code/Inflation_eval/whole_WES/WES_200k_freq_ldpruned.afreq\" #output of the previous step\n",
    "markerData = fread(freqfile, header=T, data.table=F)\n",
    "markerData <- markerData[which(markerData[,1] %% 2 == 1 & markerData$ALT_FREQ > 0.01),]\n",
    "markerData <- markerData[sample(1:nrow(markerData), 30000),]\n",
    "\n",
    "#CHR           SNP   A1   A2          MAF  NCHROBS\n",
    "#1   rs116720794    T    C      0.03635   321170\n",
    "\n",
    "\n",
    "BETAG = markerData[,c(2,4)]\n",
    "for (seedNum in 1:100){\n",
    "  set.seed(seedNum)\n",
    "  betaG = rnorm(n = nrow(markerData), mean=0, sd = sqrt(opt$tau/nrow(markerData)))\n",
    "  BETAG = cbind(BETAG, betaG)\n",
    "}\n",
    "\n",
    "colnames(BETAG)[3:102] = paste0(\"seed_\",1:100)\n",
    "write.table(BETAG, paste0(outputPath,\"tau_\",opt$tau,\"_randomBeta.100seeds.\",nrow(markerData),\"Markers.txt.oddChr\"), quote=F, row.names=F, col.names=T)\n",
    "\n"
   ]
  },
  {
   "cell_type": "markdown",
   "metadata": {},
   "source": [
    "## 3. Generate Gbeta"
   ]
  },
  {
   "cell_type": "code",
   "execution_count": null,
   "metadata": {
    "vscode": {
     "languageId": "shellscript"
    }
   },
   "outputs": [],
   "source": [
    "%%bash\n",
    "\n",
    "plink2 \\\n",
    "    --bfile /home/leelabsg/media/leelabsg-storage0/eunjae/Meta-code/Inflation_eval/whole_WES/LD_pruned/prune_all \\\n",
    "    --score /home/leelabsg/media/leelabsg-storage0/eunjae/Meta-code/Inflation_eval/whole_WES/tau_1_randomBeta.100seeds.30000Markers.txt.oddChr \\\n",
    "    #output from the beta generation\n",
    "    cols=-scoreavgs,+scoresums \\\n",
    "    list-variants \\\n",
    "    header-read \\\n",
    "    --score-col-nums 3-102 \\\n",
    "    --read-freq /home/leelabsg/media/leelabsg-storage0/eunjae/Meta-code/Inflation_eval/whole_WES/WES_200k_freq_ldpruned.afreq \\\n",
    "    #output from the frequency generation\n",
    "    --out /home/leelabsg/media/leelabsg-storage0/eunjae/Meta-code/Inflation_eval/whole_WES/WES_200k_freq_ldpruned.G_tildesum"
   ]
  },
  {
   "cell_type": "markdown",
   "metadata": {},
   "source": [
    "## 4. Generate the Null Y (Phenotype)"
   ]
  },
  {
   "cell_type": "code",
   "execution_count": null,
   "metadata": {
    "vscode": {
     "languageId": "r"
    }
   },
   "outputs": [],
   "source": [
    "%%R\n",
    "\n",
    "\n",
    "options(stringsAsFactors=F)\n",
    "\n",
    "\n",
    "## load R libraries\n",
    "#library(SKAT)\n",
    "#library(MetaSKAT)\n",
    "library(optparse)\n",
    "library(data.table)\n",
    "## set list of cmd line arguments\n",
    "option_list <- list(\n",
    "#  make_option(\"--seedNum\", type=\"integer\",default=1,\n",
    "#    help=\"seed number for simulation\"),\n",
    "  make_option(\"--tau\", type=\"numeric\",default=1,\n",
    "    help=\"tau for variance component\"),\n",
    "  make_option(\"--prev\", type=\"numeric\", default=\"\",\n",
    "    help=\"prevalance\")\t\t    \n",
    ")\n",
    "## list of options\n",
    "parser <- OptionParser(usage=\"%prog [options]\", option_list=option_list)\n",
    "args <- parse_args(parser, positional_arguments = 0)\n",
    "opt <- args$options\n",
    "print(opt)\n",
    "\n",
    "## output folder\n",
    "outputPath=\"/home/leelabsg/media/leelabsg-storage0/eunjae/Meta-code/Inflation_eval/whole_WES/\"\n",
    "\n",
    "GetMean<-function(x, prev_a, eta1_a){\n",
    "        eta_a = eta1_a+ x\n",
    "        PI_a<-exp(eta_a)/(1+exp(eta_a))\n",
    "        mean(PI_a) - prev_a\n",
    "}\n",
    "\n",
    "\n",
    "dataG = fread(\"/home/leelabsg/media/leelabsg-storage0/eunjae/Meta-code/Inflation_eval/whole_WES/WES_200k_freq_ldpruned.G_tildesum.sscore\", header=T, data.table=F)\n",
    "\n",
    "\n",
    "\n",
    "for (seedNum in 1:100){\n",
    "\n",
    "print(seedNum)\t\n",
    "outfile = paste0(outputPath, \"seed_\",seedNum,\"_WES_200k_WB_tau_\",opt$tau,\"_prev_\",opt$prev,\".pheno.oddChr\")\n",
    "set.seed(seedNum)\n",
    "print(4+seedNum)\n",
    "a=4+seedNum\n",
    "GTilde = as.vector(dataG[,(4+seedNum)])\n",
    "N = length(GTilde)\n",
    "print(N)\n",
    "#E<-sqrt(1-opt$tau)*rnorm(N)\n",
    "x1 = rnorm(N)\n",
    "x2 = rbinom(N,1,0.5)\n",
    "\n",
    "eta1 = x1 + x2 + GTilde\n",
    "re = uniroot(f=GetMean, c(-100, 100), prev_a=opt$prev, eta1_a=eta1)\n",
    "alpha0_new = re$root\n",
    "eta<-alpha0_new + eta1\n",
    "PI = exp(eta)/(1+exp(eta))\n",
    "rfun = function(x){rbinom(n=1,size=1,prob=x)}\n",
    "y = unlist(lapply(PI, rfun))\n",
    "\n",
    "#mean(Y)\n",
    "#sd(Y)\n",
    "\n",
    "data = data.frame(y=y, x1=x1, x2=x2, IND_ID=dataG[,1])\n",
    "colnames(data)[4] = \"IND_ID\"\n",
    "print(head(data))\n",
    "\n",
    "\n",
    "## this file contains the PCs estimated for the UKBB samples that we usually use as covariates in the null model\n",
    "\n",
    "pcafile = \"/home/leelabsg/media/leelabsg-storage0/DATA/UKBB/PC/PEDMASTER_ALL_20180514_v1_MAPPED.txt\"\n",
    "\n",
    "pcadata = fread(pcafile, header=T, data.table=F)\n",
    "pcadata = pcadata[,c(\"FID\", \"PC1\",\"PC2\",\"PC3\",\"PC4\",\"PC5\",\"PC6\",\"PC7\",\"PC8\",\"PC9\",\"PC10\")]\n",
    "\n",
    "head(data)\n",
    "head(pcadata)\n",
    "\n",
    "data_a = merge(data, pcadata, by.x=\"IND_ID\", by.y=\"FID\")\n",
    "data_a = data_a[complete.cases(data_a),]\n",
    "write.table(data_a, paste0(outfile,\"_pca\"), sep=\" \", quote=F, col.names=T, row.names=F)\n",
    "\n",
    "}\n"
   ]
  },
  {
   "cell_type": "code",
   "execution_count": null,
   "metadata": {
    "vscode": {
     "languageId": "shellscript"
    }
   },
   "outputs": [],
   "source": []
  }
 ],
 "metadata": {
  "language_info": {
   "name": "python"
  }
 },
 "nbformat": 4,
 "nbformat_minor": 2
}
