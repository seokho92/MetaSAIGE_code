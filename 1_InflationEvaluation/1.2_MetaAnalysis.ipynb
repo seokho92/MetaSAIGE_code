{
 "cells": [
  {
   "cell_type": "markdown",
   "metadata": {},
   "source": [
    "## 1. SAIGE step1"
   ]
  },
  {
   "cell_type": "code",
   "execution_count": null,
   "metadata": {
    "vscode": {
     "languageId": "shellscript"
    }
   },
   "outputs": [],
   "source": [
    "%%bash\n",
    "\n",
    "job_directory=$PWD/.job\n",
    "mkdir -p $job_directory\n",
    "job_file=\"${job_directory}/case1_${group}.job\"\n",
    "\n",
    "for group in 1 2 3 #For three different subgroups\n",
    "do\n",
    "    for seed in {1..100}\n",
    "    do\n",
    "        for prev in 0.01 0.05\n",
    "        do\n",
    "            mkdir -p /home/leelabsg/media/leelabsg-storage0/eunjae/Meta-code/Inflation_eval/WB_case1/group${group}/group${group}_step1_prev${prev}\n",
    "            job_file=\"${job_directory}/case1_${group}.job\"\n",
    "            echo \"#!/bin/bash\n",
    "            #SBATCH --job-name=WB_case1_group${group}_step1\n",
    "            #SBATCH --output=WB_case1_group${group}_step1.out\n",
    "            #SBATCH --error=WB_case1_group${group}_step1.err\n",
    "            #SBATCH --partition=leelabsg\n",
    "            #SBATCH --ntasks=1\n",
    "            #SBATCH --cpus-per-task=32\n",
    "            srun Rscript /home/parkeunj/SAIGE/extdata/step1_fitNULLGLMM.R \\\n",
    "                --plinkFile=/home/leelabsg/media/leelabsg-storage0/eunjae/Meta-code/Inflation_eval/WB_case1/group${group}/group${group}_plink/wb_WES_ukb_case1_group${group}_oddchr \\\n",
    "                --phenoFile=/home/leelabsg/media/leelabsg-storage0/eunjae/Meta-code/Inflation_eval/whole_WES/seed_${seed}_WES_200k_WB_tau_1_prev_${prev}.pheno.oddChr_pca \\\n",
    "                --phenoCol=y \\\n",
    "                --covarColList=x1,x2,PC1,PC2,PC3,PC4 \\\n",
    "                --sampleIDColinphenoFile=IND_ID \\\n",
    "                --traitType=binary \\\n",
    "                --nThreads=64 \\\n",
    "                --isCateVarianceRatio=TRUE \\\n",
    "                --outputPrefix=/home/leelabsg/media/leelabsg-storage0/eunjae/Meta-code/Inflation_eval/WB_case1/group${group}/group${group}_step1_prev${prev}/WB_case1_group${group}_step1_seed${seed} \\\n",
    "                --sparseGRMFile=/home/leelabsg/media/leelabsg-storage0/eunjae/Meta-code/Inflation_eval/White_British__relatednessCutoff_0.05_5000_randomMarkersUsed.sparseGRM.mtx \\\n",
    "                --sparseGRMSampleIDFile=/home/leelabsg/media/leelabsg-storage0/eunjae/Meta-code/Inflation_eval/White_British__relatednessCutoff_0.05_5000_randomMarkersUsed.sparseGRM.mtx.sampleIDs.txt \\\n",
    "                --IsOverwriteVarianceRatioFile=FALSE \\\n",
    "                --LOCO=FALSE\" > $job_file\n",
    "            sbatch --output=./.job/step1_${seed}_${chr} --cpus-per-task=32 --partition=leelabsg --mem=80G --exclude=leelabsg06 $job_file\n",
    "            \n",
    "        done\n",
    "    done\n",
    "done\n",
    "\n"
   ]
  },
  {
   "cell_type": "markdown",
   "metadata": {},
   "source": [
    "## 2. SAIGE step2"
   ]
  },
  {
   "cell_type": "code",
   "execution_count": null,
   "metadata": {
    "vscode": {
     "languageId": "shellscript"
    }
   },
   "outputs": [],
   "source": [
    "%%bash\n",
    "\n",
    "job_directory=$PWD/.job\n",
    "mkdir -p $job_directory\n",
    "job_file=\"${job_directory}/case1_${group}.job\"\n",
    "\n",
    "for group in 1 2 3\n",
    "do\n",
    "\n",
    "    for prev in 0.01 0.05\n",
    "    do\n",
    "        for seed in {1..100}\n",
    "        do\n",
    "            for ((chr=2; chr<=22; chr=chr+2))\n",
    "            do\n",
    "                mkdir -p /home/leelabsg/media/leelabsg-storage0/eunjae/Meta-code/Inflation_eval/WB_case1/group${group}/group${group}_step2_prev${prev}\n",
    "                job_file=\"${job_directory}/case1_${group}.job\"\n",
    "                echo \"#!/bin/bash\n",
    "                #SBATCH --job-name=WB_case1_group${group}_step2\n",
    "                #SBATCH --output=WB_case1_group${group}_step2.out\n",
    "                #SBATCH --error=WB_case1_group${group}_step2.err\n",
    "                #SBATCH --partition=leelabsg\n",
    "                #SBATCH --ntasks=1\n",
    "                #SBATCH --cpus-per-task=1\n",
    "                srun Rscript /home/parkeunj/SAIGE/extdata/step2_SPAtests.R \\\n",
    "                    --bedFile=/home/leelabsg/media/leelabsg-storage0/eunjae/Meta-code/Inflation_eval/WB_case1/group${group}/group${group}_plink/wb_WES_ukb_case1_group${group}_chr${chr}.bed \\\n",
    "                    --bimFile=/home/leelabsg/media/leelabsg-storage0/eunjae/Meta-code/Inflation_eval/WB_case1/group${group}/group${group}_plink/wb_WES_ukb_case1_group${group}_chr${chr}.bim \\\n",
    "                    --famFile=/home/leelabsg/media/leelabsg-storage0/eunjae/Meta-code/Inflation_eval/WB_case1/group${group}/group${group}_plink/wb_WES_ukb_case1_group${group}_chr${chr}.fam \\\n",
    "                    --AlleleOrder=alt-first \\\n",
    "                    --SAIGEOutputFile=/home/leelabsg/media/leelabsg-storage0/eunjae/Meta-code/Inflation_eval/WB_case1/group${group}/group${group}_step2_prev${prev}/WB_case1_group${group}_step2_seed${seed}_chr${chr}.txt \\\n",
    "                    --chrom=${chr} \\\n",
    "                    --minMAF=0 \\\n",
    "                    --minMAC=0.5 \\\n",
    "                    --is_overwrite_output=TRUE \\\n",
    "                    --GMMATmodelFile=/home/leelabsg/media/leelabsg-storage0/eunjae/Meta-code/Inflation_eval/WB_case1/group${group}/group${group}_step1_prev${prev}/WB_case1_group${group}_step1_seed${seed}.rda \\\n",
    "                    --varianceRatioFile=/home/leelabsg/media/leelabsg-storage0/eunjae/Meta-code/Inflation_eval/WB_case1/group${group}/group${group}_step1_prev${prev}/WB_case1_group${group}_step1_seed${seed}.varianceRatio.txt \\\n",
    "                    --maxMAF=0.01 \\\n",
    "                    --is_Firth_beta=TRUE \\\n",
    "                    --pCutoffforFirth=0.05 \\\n",
    "                    --is_output_moreDetails=TRUE \\\n",
    "                    --max_MAC_for_ER=10 \\\n",
    "                    --LOCO=FALSE\" > $job_file\n",
    "                sbatch --output=./.job/${group}_${seed}_${chr} --cpus-per-task=1 --partition=leelabsg --exclude=leelabsg[07,11] --mem=15G $job_file\n",
    "            done\n",
    "            \n",
    "        done\n",
    "    done\n",
    "done\n"
   ]
  },
  {
   "cell_type": "markdown",
   "metadata": {},
   "source": [
    "## 3. SAIGE step3 (LD Matrix Generation)"
   ]
  },
  {
   "cell_type": "code",
   "execution_count": null,
   "metadata": {
    "vscode": {
     "languageId": "shellscript"
    }
   },
   "outputs": [],
   "source": [
    "%%bash\n",
    "\n",
    "for anno in lof missense_lof missense_lof_synonymous\n",
    "do\n",
    "    for maf in 0.01 0.001 0.0001\n",
    "    do\n",
    "        mkdir -p /media/leelabsg-storage0/eunjae/Meta-code/Inflation_eval/WB_case1/group${group}/group${group}_step3_docker/${maf}_${anno}\n",
    "        mkdir -p /media/leelabsg-storage0/eunjae/Meta-code/Inflation_eval/WB_case1/group${group}/group${group}_step3_docker_log/${maf}_${anno}\n",
    "        for chr in {1..22}\n",
    "        do\n",
    "            if [ $anno == \"lof\" ]\n",
    "            then\n",
    "                annotation_in_groupTest='lof'\n",
    "            elif [ $anno == \"missense_lof\" ]\n",
    "            then\n",
    "                annotation_in_groupTest='missense;lof'\n",
    "            elif [ $anno == \"missense_lof_synonymous\" ]\n",
    "            then\n",
    "                annotation_in_groupTest='missense;lof;synonymous'\n",
    "            fi\n",
    "            docker run -v /media/leelabsg-storage0/eunjae/Meta-code/Inflation_eval/WB_case1/group${group}/group${group}_plink:/media/leelabsg-storage0/eunjae/Meta-code/Inflation_eval/WB_case1/group${group}/group${group}_plink \\\n",
    "            -v /media/leelabsg-storage0/eunjae/Meta-code/Inflation_eval/WB_case1/group${group}/group${group}_step3_docker:/media/leelabsg-storage0/eunjae/Meta-code/Inflation_eval/WB_case1/group${group}/group${group}_step3_docker \\\n",
    "            -v /media/leelabsg-storage0/eunjae/Meta-code/SAIGE_test:/media/leelabsg-storage0/eunjae/Meta-code/SAIGE_test \\\n",
    "            -w /media/leelabsg-storage0/eunjae/ wzhou88/saige:1.1.6.3 step3_LDmat.R \\\n",
    "                --bedFile=Meta-code/Inflation_eval/WB_case1/group${group}/group${group}_plink/wb_WES_ukb_case1_group${group}_chr${chr}.bed \\\n",
    "                --bimFile=Meta-code/Inflation_eval/WB_case1/group${group}/group${group}_plink/wb_WES_ukb_case1_group${group}_chr${chr}.bim \\\n",
    "                --famFile=Meta-code/Inflation_eval/WB_case1/group${group}/group${group}_plink/wb_WES_ukb_case1_group${group}_chr${chr}.fam \\\n",
    "                --AlleleOrder=alt-first \\\n",
    "                --SAIGEOutputFile=Meta-code/Inflation_eval/WB_case1/group${group}/group${group}_step3_docker/${maf}_${anno}/WB_case1_group${group}_chr${chr} \\\n",
    "                --chrom=${chr} \\\n",
    "                --groupFile=Meta-code/SAIGE_test/groupfiles/UKBexomeOQFE_chr\"$chr\".gene.anno.hg38_PlinkMatch_v2.txt \\\n",
    "                --annotation_in_groupTest=${annotation_in_groupTest} \\\n",
    "                --is_overwrite_output=TRUE \\\n",
    "                --maxMAF_in_groupTest=${maf} \\\n",
    "                > /media/leelabsg-storage0/eunjae/Meta-code/Inflation_eval/WB_case1/group${group}/group${group}_step3_docker_log/${maf}_${anno}/WB_case1_group${group}_chr${chr}.log &\n",
    "        done\n",
    "    done\n",
    "done\n"
   ]
  },
  {
   "cell_type": "markdown",
   "metadata": {},
   "source": [
    "## 4. Meta-Analysis on DNANexus (Meta-SAIGE)"
   ]
  },
  {
   "cell_type": "code",
   "execution_count": null,
   "metadata": {
    "vscode": {
     "languageId": "shellscript"
    }
   },
   "outputs": [],
   "source": [
    "%%bash\n",
    "\n",
    "source ~/anaconda3/bin/activate dxpy # loading the conda environment from dnanexus python API\n",
    "instance_type=mem2_ssd2_v2_x4\n",
    "anno=missense_lof\n",
    "maxMAF=0.01\n",
    "\n",
    "for prev in 0.01 0.05\n",
    "do\n",
    "\n",
    "    for case in 1 2\n",
    "    do\n",
    "        dx mkdir -p UKB_Main:/Meta-SAIGE/WB_case${case}/meta_res_WBonly_V2_GC_prev${prev}_MaxMAF${maxMAF}\n",
    "        destination=/Meta-SAIGE/WB_case${case}/meta_res_WBonly_V2_GC_prev${prev}_MaxMAF${maxMAF}\n",
    "        for seed in {1..60}\n",
    "        do\n",
    "            for chr in {1..22}\n",
    "            do\n",
    "                dx run swiss-army-knife \\\n",
    "                -iin=UKB_Main:/Meta-SAIGE/WB_case${case}/group1/group1_step2_prev${prev}/WB_case${case}_group1_step2_seed${seed}_chr${chr}.txt \\\n",
    "                -iin=UKB_Main:/Meta-SAIGE/WB_case${case}/group2/group2_step2_prev${prev}/WB_case${case}_group2_step2_seed${seed}_chr${chr}.txt \\\n",
    "                -iin=UKB_Main:/Meta-SAIGE/WB_case${case}/group3/group3_step2_prev${prev}/WB_case${case}_group3_step2_seed${seed}_chr${chr}.txt \\\n",
    "                -iin=UKB_Main:/Meta-SAIGE/WB_case${case}/group1/group1_step3_docker/group1_${maxMAF}_${anno}.zip \\\n",
    "                -iin=UKB_Main:/Meta-SAIGE/WB_case${case}/group2/group2_step3_docker/group2_${maxMAF}_${anno}.zip \\\n",
    "                -iin=UKB_Main:/Meta-SAIGE/WB_case${case}/group3/group3_step3_docker/group3_${maxMAF}_${anno}.zip \\\n",
    "                -icmd=\"unzip -qq group1_${maxMAF}_${anno}.zip ; unzip -qq group2_${maxMAF}_${anno}.zip ; unzip -qq group3_${maxMAF}_${anno}.zip ; \\\n",
    "                    Rscript /app/RV_meta_GC.R \\\n",
    "                    --num_cohorts 3 \\\n",
    "                    --chr ${chr} \\\n",
    "                    --col_co 10 \\\n",
    "                    --info_file_path group1_${maxMAF}_${anno}/WB_case${case}_group1_chr${chr}.marker_info.txt \\\n",
    "                    group2_${maxMAF}_${anno}/WB_case${case}_group2_chr${chr}.marker_info.txt \\\n",
    "                    group3_${maxMAF}_${anno}/WB_case${case}_group3_chr${chr}.marker_info.txt \\\n",
    "                    \\\n",
    "                    --gene_file_prefix group1_${maxMAF}_${anno}/WB_case${case}_group1_chr${chr}_ \\\n",
    "                    group2_${maxMAF}_${anno}/WB_case${case}_group2_chr${chr}_ \\\n",
    "                    group3_${maxMAF}_${anno}/WB_case${case}_group3_chr${chr}_ \\\n",
    "                    \\\n",
    "                    --gwas_path WB_case${case}_group1_step2_seed${seed}_chr${chr}.txt \\\n",
    "                    WB_case${case}_group2_step2_seed${seed}_chr${chr}.txt \\\n",
    "                    WB_case${case}_group3_step2_seed${seed}_chr${chr}.txt \\\n",
    "                    \\\n",
    "                    --output_prefix WBonly_prev${prev}_case${case}_seed${seed}_chr${chr}_meta_res_MaxMAF${maxMAF}.txt ; \\\n",
    "                    rm -rf group1_${maxMAF}_${anno} ; rm -rf group2_${maxMAF}_${anno} ; rm -rf group3_${maxMAF}_${anno} ;\" \\\n",
    "                -iimage_file=/docker_images/meta-saige.tar.gz \\\n",
    "                --destination ${destination} \\\n",
    "                --instance-type ${instance_type} \\\n",
    "                --ignore-reuse \\\n",
    "                --name=Meta-SAIGE_GC_prev${prev}_case${case}_seed${seed}_chr${chr} \\\n",
    "                --yes\n",
    "            done\n",
    "        done\n",
    "    done\n",
    "\n",
    "done"
   ]
  },
  {
   "cell_type": "code",
   "execution_count": null,
   "metadata": {
    "vscode": {
     "languageId": "shellscript"
    }
   },
   "outputs": [],
   "source": []
  },
  {
   "cell_type": "code",
   "execution_count": null,
   "metadata": {
    "vscode": {
     "languageId": "shellscript"
    }
   },
   "outputs": [],
   "source": []
  }
 ],
 "metadata": {
  "language_info": {
   "name": "python"
  }
 },
 "nbformat": 4,
 "nbformat_minor": 2
}
